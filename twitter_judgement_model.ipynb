{
 "cells": [
  {
   "cell_type": "markdown",
   "metadata": {},
   "source": [
    "# 極性判定とDoc２Vecを使ったTwitterネガポジ予測（実行結果）"
   ]
  },
  {
   "cell_type": "markdown",
   "metadata": {},
   "source": [
    "## データセットの取得"
   ]
  },
  {
   "cell_type": "code",
   "execution_count": null,
   "metadata": {
    "scrolled": false
   },
   "outputs": [
    {
     "name": "stdout",
     "output_type": "stream",
     "text": [
      "ツイートを取得する日付を入力(過去１週間以内/入力形式：YYYY-M-D)：2020-1-31\n",
      "検索ページ1のツイートを取得中...\n",
      "===== 取得したツイートサンプル =====\n",
      "これなら飛沫感染も防げるしノドと鼻の乾燥も防げてビタミンCも同時に摂取できるから完璧だな。これが中国4000年の知恵よ。 \n",
      "\n",
      "【判定:positive】　　極性表現数 {'positive': 77, 'negative': 58}\n",
      "name： harakoatom ／フォロワー数： 15034\n",
      "date： 2020-01-31 08:36 ／ツイートID： 1223027331779837953\n",
      "RT数： 24021 ／favorite数： 83536\n",
      "リプライ数： 77 ／RTコメント数(上限１００）： 100\n",
      "\n",
      "検索ページ2のツイートを取得中...\n"
     ]
    },
    {
     "name": "stderr",
     "output_type": "stream",
     "text": [
      "Rate limit reached. Sleeping for: 580\n"
     ]
    },
    {
     "name": "stdout",
     "output_type": "stream",
     "text": [
      "検索ページ3のツイートを取得中...\n"
     ]
    },
    {
     "name": "stderr",
     "output_type": "stream",
     "text": [
      "Rate limit reached. Sleeping for: 765\n"
     ]
    },
    {
     "name": "stdout",
     "output_type": "stream",
     "text": [
      "検索ページ4のツイートを取得中...\n"
     ]
    },
    {
     "name": "stderr",
     "output_type": "stream",
     "text": [
      "Rate limit reached. Sleeping for: 664\n"
     ]
    },
    {
     "name": "stdout",
     "output_type": "stream",
     "text": [
      "検索ページ5のツイートを取得中...\n"
     ]
    },
    {
     "name": "stderr",
     "output_type": "stream",
     "text": [
      "Rate limit reached. Sleeping for: 759\n"
     ]
    },
    {
     "name": "stdout",
     "output_type": "stream",
     "text": [
      "検索ページ6のツイートを取得中...\n",
      "検索ページ7のツイートを取得中...\n"
     ]
    },
    {
     "name": "stderr",
     "output_type": "stream",
     "text": [
      "Rate limit reached. Sleeping for: 758\n"
     ]
    },
    {
     "name": "stdout",
     "output_type": "stream",
     "text": [
      "検索ページ8のツイートを取得中...\n"
     ]
    },
    {
     "name": "stderr",
     "output_type": "stream",
     "text": [
      "Rate limit reached. Sleeping for: 770\n"
     ]
    },
    {
     "name": "stdout",
     "output_type": "stream",
     "text": [
      "検索ページ9のツイートを取得中...\n"
     ]
    },
    {
     "name": "stderr",
     "output_type": "stream",
     "text": [
      "Rate limit reached. Sleeping for: 719\n"
     ]
    },
    {
     "name": "stdout",
     "output_type": "stream",
     "text": [
      "検索ページ10のツイートを取得中...\n"
     ]
    },
    {
     "name": "stderr",
     "output_type": "stream",
     "text": [
      "Rate limit reached. Sleeping for: 763\n"
     ]
    },
    {
     "name": "stdout",
     "output_type": "stream",
     "text": [
      "\n",
      "↓↓↓positiveサンプル↓↓↓\n"
     ]
    },
    {
     "data": {
      "text/html": [
       "<div>\n",
       "<style>\n",
       "    .dataframe thead tr:only-child th {\n",
       "        text-align: right;\n",
       "    }\n",
       "\n",
       "    .dataframe thead th {\n",
       "        text-align: left;\n",
       "    }\n",
       "\n",
       "    .dataframe tbody tr th {\n",
       "        vertical-align: top;\n",
       "    }\n",
       "</style>\n",
       "<table border=\"1\" class=\"dataframe\">\n",
       "  <thead>\n",
       "    <tr style=\"text-align: right;\">\n",
       "      <th></th>\n",
       "      <th>Id</th>\n",
       "      <th>Date</th>\n",
       "      <th>Name</th>\n",
       "      <th>Full_text</th>\n",
       "      <th>Judge</th>\n",
       "      <th>Posi_score</th>\n",
       "      <th>Nega_score</th>\n",
       "      <th>Followers</th>\n",
       "      <th>link</th>\n",
       "    </tr>\n",
       "  </thead>\n",
       "  <tbody>\n",
       "    <tr>\n",
       "      <th>0</th>\n",
       "      <td>1223027331779837953</td>\n",
       "      <td>2020-01-31 08:36</td>\n",
       "      <td>harakoatom</td>\n",
       "      <td>これなら飛沫感染も防げるしノドと鼻の乾燥も防げてビタミンCも同時に摂取できるから完璧だな。こ...</td>\n",
       "      <td>positive</td>\n",
       "      <td>77</td>\n",
       "      <td>58</td>\n",
       "      <td>15034</td>\n",
       "      <td>https://t.co/tQP9NjQwne</td>\n",
       "    </tr>\n",
       "    <tr>\n",
       "      <th>1</th>\n",
       "      <td>1223018101404512258</td>\n",
       "      <td>2020-01-31 08:00</td>\n",
       "      <td>obihirozoo</td>\n",
       "      <td>睦月から如月も\\nたぬのモフみと共にあらんことを\\n#おびひろ動物園　#エゾタヌキ\\n#ob...</td>\n",
       "      <td>positive</td>\n",
       "      <td>40</td>\n",
       "      <td>17</td>\n",
       "      <td>26617</td>\n",
       "      <td>https://t.co/Nv6ypyPS0V</td>\n",
       "    </tr>\n",
       "    <tr>\n",
       "      <th>2</th>\n",
       "      <td>1223013847579021312</td>\n",
       "      <td>2020-01-31 07:43</td>\n",
       "      <td>Via_Nirone7</td>\n",
       "      <td>「スマホに夢中な親に向かって幼児が『スマホじゃなくて私を見て』と訴えてる光景を電車で見かけた...</td>\n",
       "      <td>positive</td>\n",
       "      <td>75</td>\n",
       "      <td>71</td>\n",
       "      <td>9669</td>\n",
       "      <td>None</td>\n",
       "    </tr>\n",
       "    <tr>\n",
       "      <th>3</th>\n",
       "      <td>1223013260405821440</td>\n",
       "      <td>2020-01-31 07:40</td>\n",
       "      <td>kaztsu</td>\n",
       "      <td>「22年間のご愛顧ありがとうございます」マクドナルド秋葉原昭和通り店、ビル解体が理由ぽくて本...</td>\n",
       "      <td>positive</td>\n",
       "      <td>72</td>\n",
       "      <td>58</td>\n",
       "      <td>36217</td>\n",
       "      <td>https://t.co/M5HmxRAk4P</td>\n",
       "    </tr>\n",
       "    <tr>\n",
       "      <th>4</th>\n",
       "      <td>1222973254631075845</td>\n",
       "      <td>2020-01-31 05:02</td>\n",
       "      <td>grandblue_movie</td>\n",
       "      <td>／\\n事務所の方々イイんですか⁉️\\n＼\\n\\n『#映画ぐらんぶる』主演は…\\n\\n🤿夢のキ...</td>\n",
       "      <td>positive</td>\n",
       "      <td>63</td>\n",
       "      <td>27</td>\n",
       "      <td>5378</td>\n",
       "      <td>https://t.co/LEXSvqJI4u</td>\n",
       "    </tr>\n",
       "  </tbody>\n",
       "</table>\n",
       "</div>"
      ],
      "text/plain": [
       "                    Id              Date             Name  \\\n",
       "0  1223027331779837953  2020-01-31 08:36       harakoatom   \n",
       "1  1223018101404512258  2020-01-31 08:00       obihirozoo   \n",
       "2  1223013847579021312  2020-01-31 07:43      Via_Nirone7   \n",
       "3  1223013260405821440  2020-01-31 07:40           kaztsu   \n",
       "4  1222973254631075845  2020-01-31 05:02  grandblue_movie   \n",
       "\n",
       "                                           Full_text     Judge Posi_score  \\\n",
       "0  これなら飛沫感染も防げるしノドと鼻の乾燥も防げてビタミンCも同時に摂取できるから完璧だな。こ...  positive         77   \n",
       "1  睦月から如月も\\nたぬのモフみと共にあらんことを\\n#おびひろ動物園　#エゾタヌキ\\n#ob...  positive         40   \n",
       "2  「スマホに夢中な親に向かって幼児が『スマホじゃなくて私を見て』と訴えてる光景を電車で見かけた...  positive         75   \n",
       "3  「22年間のご愛顧ありがとうございます」マクドナルド秋葉原昭和通り店、ビル解体が理由ぽくて本...  positive         72   \n",
       "4  ／\\n事務所の方々イイんですか⁉️\\n＼\\n\\n『#映画ぐらんぶる』主演は…\\n\\n🤿夢のキ...  positive         63   \n",
       "\n",
       "  Nega_score Followers                     link  \n",
       "0         58     15034  https://t.co/tQP9NjQwne  \n",
       "1         17     26617  https://t.co/Nv6ypyPS0V  \n",
       "2         71      9669                     None  \n",
       "3         58     36217  https://t.co/M5HmxRAk4P  \n",
       "4         27      5378  https://t.co/LEXSvqJI4u  "
      ]
     },
     "metadata": {},
     "output_type": "display_data"
    },
    {
     "name": "stdout",
     "output_type": "stream",
     "text": [
      "\n",
      "↓↓↓negativeサンプル↓↓↓\n"
     ]
    },
    {
     "data": {
      "text/html": [
       "<div>\n",
       "<style>\n",
       "    .dataframe thead tr:only-child th {\n",
       "        text-align: right;\n",
       "    }\n",
       "\n",
       "    .dataframe thead th {\n",
       "        text-align: left;\n",
       "    }\n",
       "\n",
       "    .dataframe tbody tr th {\n",
       "        vertical-align: top;\n",
       "    }\n",
       "</style>\n",
       "<table border=\"1\" class=\"dataframe\">\n",
       "  <thead>\n",
       "    <tr style=\"text-align: right;\">\n",
       "      <th></th>\n",
       "      <th>Id</th>\n",
       "      <th>Date</th>\n",
       "      <th>Name</th>\n",
       "      <th>Full_text</th>\n",
       "      <th>Judge</th>\n",
       "      <th>Posi_score</th>\n",
       "      <th>Nega_score</th>\n",
       "      <th>Followers</th>\n",
       "      <th>link</th>\n",
       "    </tr>\n",
       "  </thead>\n",
       "  <tbody>\n",
       "    <tr>\n",
       "      <th>0</th>\n",
       "      <td>1223024594388258816</td>\n",
       "      <td>2020-01-31 08:26</td>\n",
       "      <td>owah7dj20</td>\n",
       "      <td>身長低い女の子は高い所に手が届かなくて「んっ！んーーっ！んっ！ふぇ、届かないよぉ(&amp;gt;_...</td>\n",
       "      <td>negative</td>\n",
       "      <td>58</td>\n",
       "      <td>61</td>\n",
       "      <td>10708</td>\n",
       "      <td>None</td>\n",
       "    </tr>\n",
       "    <tr>\n",
       "      <th>1</th>\n",
       "      <td>1223017546128875520</td>\n",
       "      <td>2020-01-31 07:58</td>\n",
       "      <td>beaver445</td>\n",
       "      <td>長女が学校で脇腹にアザを作って帰ってきた。聞くと、椅子に座ろうとした時に友達が椅子を引いて転...</td>\n",
       "      <td>negative</td>\n",
       "      <td>104</td>\n",
       "      <td>226</td>\n",
       "      <td>532</td>\n",
       "      <td>None</td>\n",
       "    </tr>\n",
       "    <tr>\n",
       "      <th>2</th>\n",
       "      <td>1223013359965966337</td>\n",
       "      <td>2020-01-31 07:41</td>\n",
       "      <td>s_ss_sssa</td>\n",
       "      <td>みんなコロナウイルスを警戒してマスクや手洗いを徹底しているためか、今年のインフルエンザは例年...</td>\n",
       "      <td>negative</td>\n",
       "      <td>77</td>\n",
       "      <td>81</td>\n",
       "      <td>10621</td>\n",
       "      <td>https://t.co/f31WOfqmLb</td>\n",
       "    </tr>\n",
       "    <tr>\n",
       "      <th>3</th>\n",
       "      <td>1223011527415828480</td>\n",
       "      <td>2020-01-31 07:34</td>\n",
       "      <td>nYu_desu_yo</td>\n",
       "      <td>「コロナウィルスは目からも感染する」という情報を聞いたら通常の人間は「そうか、目も粘膜だもん...</td>\n",
       "      <td>negative</td>\n",
       "      <td>82</td>\n",
       "      <td>144</td>\n",
       "      <td>1782</td>\n",
       "      <td>None</td>\n",
       "    </tr>\n",
       "    <tr>\n",
       "      <th>4</th>\n",
       "      <td>1222966220640571392</td>\n",
       "      <td>2020-01-31 04:34</td>\n",
       "      <td>danketsu_rentai</td>\n",
       "      <td>１人の記者を完全シカトすることで\\n記者会は官房長官と手を握ったのか。\\nオフレコ懇談をエサ...</td>\n",
       "      <td>negative</td>\n",
       "      <td>99</td>\n",
       "      <td>127</td>\n",
       "      <td>12189</td>\n",
       "      <td>https://t.co/ANOyvy0vVV</td>\n",
       "    </tr>\n",
       "  </tbody>\n",
       "</table>\n",
       "</div>"
      ],
      "text/plain": [
       "                    Id              Date             Name  \\\n",
       "0  1223024594388258816  2020-01-31 08:26        owah7dj20   \n",
       "1  1223017546128875520  2020-01-31 07:58        beaver445   \n",
       "2  1223013359965966337  2020-01-31 07:41        s_ss_sssa   \n",
       "3  1223011527415828480  2020-01-31 07:34      nYu_desu_yo   \n",
       "4  1222966220640571392  2020-01-31 04:34  danketsu_rentai   \n",
       "\n",
       "                                           Full_text     Judge Posi_score  \\\n",
       "0  身長低い女の子は高い所に手が届かなくて「んっ！んーーっ！んっ！ふぇ、届かないよぉ(&gt;_...  negative         58   \n",
       "1  長女が学校で脇腹にアザを作って帰ってきた。聞くと、椅子に座ろうとした時に友達が椅子を引いて転...  negative        104   \n",
       "2  みんなコロナウイルスを警戒してマスクや手洗いを徹底しているためか、今年のインフルエンザは例年...  negative         77   \n",
       "3  「コロナウィルスは目からも感染する」という情報を聞いたら通常の人間は「そうか、目も粘膜だもん...  negative         82   \n",
       "4  １人の記者を完全シカトすることで\\n記者会は官房長官と手を握ったのか。\\nオフレコ懇談をエサ...  negative         99   \n",
       "\n",
       "  Nega_score Followers                     link  \n",
       "0         61     10708                     None  \n",
       "1        226       532                     None  \n",
       "2         81     10621  https://t.co/f31WOfqmLb  \n",
       "3        144      1782                     None  \n",
       "4        127     12189  https://t.co/ANOyvy0vVV  "
      ]
     },
     "metadata": {},
     "output_type": "display_data"
    },
    {
     "name": "stdout",
     "output_type": "stream",
     "text": [
      "\n",
      "↓↓↓fire_tweetサンプル↓↓↓\n"
     ]
    },
    {
     "data": {
      "text/html": [
       "<div>\n",
       "<style>\n",
       "    .dataframe thead tr:only-child th {\n",
       "        text-align: right;\n",
       "    }\n",
       "\n",
       "    .dataframe thead th {\n",
       "        text-align: left;\n",
       "    }\n",
       "\n",
       "    .dataframe tbody tr th {\n",
       "        vertical-align: top;\n",
       "    }\n",
       "</style>\n",
       "<table border=\"1\" class=\"dataframe\">\n",
       "  <thead>\n",
       "    <tr style=\"text-align: right;\">\n",
       "      <th></th>\n",
       "      <th>Id</th>\n",
       "      <th>Date</th>\n",
       "      <th>Name</th>\n",
       "      <th>Full_text</th>\n",
       "      <th>Judge</th>\n",
       "      <th>Posi_score</th>\n",
       "      <th>Nega_score</th>\n",
       "      <th>Followers</th>\n",
       "      <th>link</th>\n",
       "    </tr>\n",
       "  </thead>\n",
       "  <tbody>\n",
       "    <tr>\n",
       "      <th>0</th>\n",
       "      <td>1223010519491047424</td>\n",
       "      <td>2020-01-31 07:30</td>\n",
       "      <td>nhk_kabun</td>\n",
       "      <td>マダニにかまれたあと、発熱などの症状が出た男性から、新たなウイルスが検出されたことを国立感染...</td>\n",
       "      <td>fire</td>\n",
       "      <td>33</td>\n",
       "      <td>94</td>\n",
       "      <td>362628</td>\n",
       "      <td>https://t.co/2QkHodbg6G</td>\n",
       "    </tr>\n",
       "    <tr>\n",
       "      <th>1</th>\n",
       "      <td>1222757821684436993</td>\n",
       "      <td>2020-01-30 14:45</td>\n",
       "      <td>kurage_1310</td>\n",
       "      <td>ドラッグストアで店員さんに｢マスクってもう無いですか？！｣と食い気味に聞いている男性がいて、...</td>\n",
       "      <td>fire</td>\n",
       "      <td>73</td>\n",
       "      <td>220</td>\n",
       "      <td>1718</td>\n",
       "      <td>None</td>\n",
       "    </tr>\n",
       "    <tr>\n",
       "      <th>2</th>\n",
       "      <td>1222727695445839872</td>\n",
       "      <td>2020-01-30 12:46</td>\n",
       "      <td>ewe_your_you</td>\n",
       "      <td>医者「これからお伝えすることは、少しショッキングな内容かもしれません」\\n\\n患者「はい、覚...</td>\n",
       "      <td>fire</td>\n",
       "      <td>26</td>\n",
       "      <td>65</td>\n",
       "      <td>56773</td>\n",
       "      <td>None</td>\n",
       "    </tr>\n",
       "    <tr>\n",
       "      <th>3</th>\n",
       "      <td>1222467175891390465</td>\n",
       "      <td>2020-01-29 19:31</td>\n",
       "      <td>Tw_Meigen_bot</td>\n",
       "      <td>バランスボール邪魔だったから天井の角にはめたんだけど、存在忘れた頃に見つけるとビビる</td>\n",
       "      <td>fire</td>\n",
       "      <td>9</td>\n",
       "      <td>24</td>\n",
       "      <td>98960</td>\n",
       "      <td>https://t.co/96wl0twCpt</td>\n",
       "    </tr>\n",
       "  </tbody>\n",
       "</table>\n",
       "</div>"
      ],
      "text/plain": [
       "                    Id              Date           Name  \\\n",
       "0  1223010519491047424  2020-01-31 07:30      nhk_kabun   \n",
       "1  1222757821684436993  2020-01-30 14:45    kurage_1310   \n",
       "2  1222727695445839872  2020-01-30 12:46   ewe_your_you   \n",
       "3  1222467175891390465  2020-01-29 19:31  Tw_Meigen_bot   \n",
       "\n",
       "                                           Full_text Judge Posi_score  \\\n",
       "0  マダニにかまれたあと、発熱などの症状が出た男性から、新たなウイルスが検出されたことを国立感染...  fire         33   \n",
       "1  ドラッグストアで店員さんに｢マスクってもう無いですか？！｣と食い気味に聞いている男性がいて、...  fire         73   \n",
       "2  医者「これからお伝えすることは、少しショッキングな内容かもしれません」\\n\\n患者「はい、覚...  fire         26   \n",
       "3        バランスボール邪魔だったから天井の角にはめたんだけど、存在忘れた頃に見つけるとビビる   fire          9   \n",
       "\n",
       "  Nega_score Followers                     link  \n",
       "0         94    362628  https://t.co/2QkHodbg6G  \n",
       "1        220      1718                     None  \n",
       "2         65     56773                     None  \n",
       "3         24     98960  https://t.co/96wl0twCpt  "
      ]
     },
     "metadata": {},
     "output_type": "display_data"
    },
    {
     "name": "stdout",
     "output_type": "stream",
     "text": [
      "\n",
      "\n",
      "csvへの書き出しが完了しました。新規データ数155、全データ数：1536\n",
      "サンプルが0件の場合は、15分後に再度実行すると取得できる場合があります。\n",
      "\n"
     ]
    }
   ],
   "source": [
    "from get_dataset import Get_Twitter\n",
    "\n",
    "#データセットの取得\n",
    "GT = Get_Twitter()\n",
    "similar = GT.main()"
   ]
  },
  {
   "cell_type": "markdown",
   "metadata": {},
   "source": [
    "## 前処理、学習"
   ]
  },
  {
   "cell_type": "code",
   "execution_count": 5,
   "metadata": {},
   "outputs": [
    {
     "name": "stdout",
     "output_type": "stream",
     "text": [
      "ツイート予定文書を入力してください\n",
      "みんなコロナウイルスを警戒してマスクや手洗いを徹底しているためか、今年のインフルエンザは例年と違う動きをしている。 圧倒的に罹患者が少ない \n",
      "前処理中です…\n",
      "読み込んだツイート数 1536\n",
      "csv出力完了：train_buzz.txt\n",
      "学習用ツイート数（判定用ツイート含む/短すぎるツイートは削除）： 1254\n",
      "[分かち書きサンプル]\n",
      " 絶対 断ら ない 評判 病児保育 助成金 下り 赤字 出し 閉鎖 全国 病児保育 赤字 運営 おり 東海 キッズケア 助成金 求め 署名 集め 助成金 下りる あり ませ 社会保障 税金 使わ ませ \n",
      "\n",
      "Doc2Vecで学習しています…\n",
      "学習が完了しました\n"
     ]
    }
   ],
   "source": [
    "from preprocessing import For_Model\n",
    "from model import Model\n",
    "\n",
    "#前処理\n",
    "FM = For_Model()\n",
    "df_tweet, similar = FM.main()\n",
    "\n",
    "#学習\n",
    "M = Model()\n",
    "m, trainings = M.main()"
   ]
  },
  {
   "cell_type": "markdown",
   "metadata": {},
   "source": [
    "## 推定"
   ]
  },
  {
   "cell_type": "code",
   "execution_count": 6,
   "metadata": {
    "scrolled": false
   },
   "outputs": [
    {
     "name": "stdout",
     "output_type": "stream",
     "text": [
      "============== ツイート予定文 ==============\n",
      "\n",
      "みんなコロナウイルスを警戒してマスクや手洗いを徹底しているためか、今年のインフルエンザは例年と違う動きをしている。 圧倒的に罹患者が少ない \n",
      "\n",
      "======= 類似ツイート上位１０（全1254ツイート中） =======\n",
      "\n",
      "※類似度0.55未満は表示しない\n",
      "※nega/posiスコアは対数変換したフォロワー数で割っています\n",
      "\n",
      "…………　類似ツイート1位：類似度 0.99　…………\n",
      "\n",
      "みんなコロナウイルスを警戒してマスクや手洗いを徹底しているためか、今年のインフルエンザは例年と違う動きをしている\n",
      "\n",
      "圧倒的に罹患者が少ない \n",
      "\n",
      "【極性】： negative\n",
      "posi_score： 8.3 ／ nega_score： 8.7 ／followers： 10621\n",
      "\n",
      "\n",
      "…………　類似ツイート2位：類似度 0.72　…………\n",
      "\n",
      "いいぞーいいぞー\n",
      "新型肺炎で煽られたみんなが手洗いマスクすることでインフルエンザ患者が確実に減ってる気がするぞー \n",
      "\n",
      "【極性】： positive\n",
      "posi_score： 12.2 ／ nega_score： 10.9 ／followers： 2187\n",
      "\n",
      "\n",
      "…………　類似ツイート3位：類似度 0.7　…………\n",
      "\n",
      "【新型コロナウイルス】\n",
      "「新型コロナウイルスに関連した感染症対策に関する対応について」ホームページを開設しました。過剰に心配することなく、マスクの着用や手洗いの徹底などの通常の感染症対策に努めていただくようお願いいたします。\n",
      "\n",
      "\n",
      "【極性】： negative\n",
      "posi_score： 13.3 ／ nega_score： 20.9 ／followers： 9474\n",
      "\n",
      "\n",
      "…………　類似ツイート4位：類似度 0.7　…………\n",
      "\n",
      "【新型コロナウイルス】\n",
      "「新型コロナウイルスに関連した感染症対策に関する対応について」ホームページを開設しました。過剰に心配することなく、マスクの着用や手洗いの徹底などの通常の感染症対策に努めていただくようお願いいたします。\n",
      "\n",
      "\n",
      "【極性】： negative\n",
      "posi_score： 22.3 ／ nega_score： 34.2 ／followers： 8636\n",
      "\n",
      "\n",
      "…………　類似ツイート5位：類似度 0.63　…………\n",
      "\n",
      "森裕子「桜問題などこの国の基本は終わってる！さて、インフルエンザについて国民民主党も対策本部を作った！」\n",
      "国会内「コロナウイルス！新型肺炎！」\n",
      "森「コロナウイルスについて」\n",
      "\n",
      "森裕子の認識はこの程度です。\n",
      "根本的なことすら間違える森の危機感のなさこそ終わっているのでは？\n",
      "#kokkai \n",
      "\n",
      "【極性】： negative\n",
      "posi_score： 5.0 ／ nega_score： 9.3 ／followers： 59622\n",
      "\n",
      "\n",
      "…………　類似ツイート6位：類似度 0.62　…………\n",
      "\n",
      "【#感染症 #注意喚起】#新型コロナウイルス に関する関係府省庁等のツイートをまとめました。是非ご覧いただくとともに、正しい情報を入手していただき、#手洗い ・ #咳エチケット などの感染症対策にご協力をお願いいたします。  \n",
      "\n",
      "⚡️ \"新型コロナウイルス感染症に備えて\"\n",
      "\n",
      "\n",
      "【極性】： negative\n",
      "posi_score： 5.9 ／ nega_score： 8.6 ／followers： 2747026\n",
      "\n",
      "\n",
      "…………　類似ツイート7位：類似度 0.6　…………\n",
      "\n",
      "#コロナウイルス というウイルスは表面にエンベロープという脂質をもっています👶これはアルコールに弱く、かつ、石鹸などの界面活性剤でも壊れます。よって、アルコール消毒や石鹸をつかっての十分な手洗いでウイルスは容易に不活化します。\n",
      "\n",
      "【極性】： positive\n",
      "posi_score： 8.7 ／ nega_score： 4.7 ／followers： 16166\n",
      "\n",
      "\n",
      "…………　類似ツイート8位：類似度 0.59　…………\n",
      "\n",
      "これは重力を把握し\n",
      "物理演算に完全勝利したロンスカあぴミク\n",
      "\n",
      "前のと違いが分からない？　裾の動きが違うのだ \n",
      "\n",
      "【極性】： positive\n",
      "posi_score： 11.4 ／ nega_score： 4.7 ／followers： 5699\n",
      "\n",
      "\n",
      "…………　類似ツイート9位：類似度 0.59　…………\n",
      "\n",
      "北京で新型肺炎初の死者、\n",
      "いや怖すぎる頼むから日本では死者でないでくれよ、\n",
      "\n",
      "とは言っても新型肺炎での死者はまだ数十人\n",
      "インフルエンザは毎年数千人亡くなってからね、\n",
      "これを機にインフルエンザの怖さをもう一度思い知った方がいい\n",
      "インフルエンザなめてる人多い気がする\n",
      "\n",
      "【極性】： fire\n",
      "posi_score： 27.3 ／ nega_score： 67.8 ／followers： 18\n",
      "\n",
      "\n",
      "…………　類似ツイート10位：類似度 0.59　…………\n",
      "\n",
      "え、日本に疑いある人、18人いるって中国で報道されてるの？？？\n",
      "日本では報道されてないよ？？？\n",
      "#コロナウイルス \n",
      "#入国禁止\n",
      "#武漢 \n",
      "\n",
      "【極性】： negative\n",
      "posi_score： 21.1 ／ nega_score： 33.9 ／followers： 18\n",
      "\n",
      "\n"
     ]
    }
   ],
   "source": [
    "import predict\n",
    "\n",
    "#推定\n",
    "if __name__ == '__main__':\n",
    "    predict.main(m, trainings, similar, df_tweet)"
   ]
  },
  {
   "cell_type": "code",
   "execution_count": null,
   "metadata": {
    "collapsed": true
   },
   "outputs": [],
   "source": []
  },
  {
   "cell_type": "code",
   "execution_count": null,
   "metadata": {
    "collapsed": true
   },
   "outputs": [],
   "source": [
    "#.pyファイル作成用コマンド\n",
    "import subprocess\n",
    "subprocess.run(['jupyter', 'nbconvert', '--to', 'python', 'predict.ipynb'])"
   ]
  },
  {
   "cell_type": "code",
   "execution_count": null,
   "metadata": {
    "collapsed": true
   },
   "outputs": [],
   "source": []
  }
 ],
 "metadata": {
  "kernelspec": {
   "display_name": "Python 3",
   "language": "python",
   "name": "python3"
  },
  "language_info": {
   "codemirror_mode": {
    "name": "ipython",
    "version": 3
   },
   "file_extension": ".py",
   "mimetype": "text/x-python",
   "name": "python",
   "nbconvert_exporter": "python",
   "pygments_lexer": "ipython3",
   "version": "3.6.3"
  }
 },
 "nbformat": 4,
 "nbformat_minor": 2
}
