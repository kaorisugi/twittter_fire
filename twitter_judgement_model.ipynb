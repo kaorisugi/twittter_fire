{
 "cells": [
  {
   "cell_type": "markdown",
   "metadata": {},
   "source": [
    "# 極性判定とDoc２Vecを使ったTwitterネガポジ予測（実行結果）"
   ]
  },
  {
   "cell_type": "markdown",
   "metadata": {},
   "source": [
    "## データセットの取得"
   ]
  },
  {
   "cell_type": "code",
   "execution_count": null,
   "metadata": {
    "scrolled": false
   },
   "outputs": [],
   "source": [
    "from get_dataset import Get_Twitter\n",
    "\n",
    "#データセットの取得\n",
    "GT = Get_Twitter()\n",
    "similar = GT.main()"
   ]
  },
  {
   "cell_type": "markdown",
   "metadata": {},
   "source": [
    "## 前処理、学習"
   ]
  },
  {
   "cell_type": "code",
   "execution_count": 3,
   "metadata": {},
   "outputs": [
    {
     "name": "stdout",
     "output_type": "stream",
     "text": [
      "ツイート予定文書を入力してください\n",
      "朝の電車で並んでた列に割り込むのも、降りてる人待ってるのに押してくるのも、私は60過ぎた男女にしかされたことないんだけど、「最近の若者は電車のマナーが悪い」っていうのはどの世代が言ってるの？？\n",
      "前処理中です…\n",
      "読み込んだツイート数 1302\n",
      "csv出力完了：train_buzz.txt\n",
      "学習用ツイート数（判定用ツイート含む/短すぎるツイートは削除）： 1045\n",
      "[分かち書きサンプル]\n",
      " 絶対 断ら ない 評判 病児保育 助成金 下り 赤字 出し 閉鎖 全国 病児保育 赤字 運営 おり 東海 キッズケア 助成金 求め 署名 集め 助成金 下りる あり ませ 社会保障 税金 使わ ませ \n",
      "\n",
      "Doc2Vecで学習しています…\n",
      "学習が完了しました\n"
     ]
    }
   ],
   "source": [
    "from preprocessing import For_Model\n",
    "from model import Model\n",
    "\n",
    "#前処理\n",
    "FM = For_Model()\n",
    "df_tweet, similar = FM.main()\n",
    "\n",
    "#学習\n",
    "M = Model()\n",
    "m, trainings = M.main()"
   ]
  },
  {
   "cell_type": "markdown",
   "metadata": {},
   "source": [
    "## 推定"
   ]
  },
  {
   "cell_type": "code",
   "execution_count": 4,
   "metadata": {
    "scrolled": false
   },
   "outputs": [
    {
     "name": "stdout",
     "output_type": "stream",
     "text": [
      "============== ツイート予定文 ==============\n",
      "\n",
      "朝の電車で並んでた列に割り込むのも、降りてる人待ってるのに押してくるのも、私は60過ぎた男女にしかされたことないんだけど、「最近の若者は電車のマナーが悪い」っていうのはどの世代が言ってるの？？\n",
      "\n",
      "======= 類似ツイート上位１０（全1045ツイート中） =======\n",
      "\n",
      "※類似度0.55未満は表示しない\n",
      "※nega/posiスコアは対数変換したフォロワー数で割っています\n",
      "\n",
      "…………　類似ツイート1位：類似度 0.99　…………\n",
      "\n",
      "朝の電車で並んでた列に割り込むのも、降りてる人待ってるのに押してくるのも、私は60過ぎた男女にしかされたことないんだけど、「最近の若者は電車のマナーが悪い」っていうのはどの世代が言ってるの？？🤔\n",
      "\n",
      "【極性】： negative\n",
      "posi_score： 6.1 ／ nega_score： 7.8 ／followers： 116320\n",
      "\n",
      "\n",
      "…………　類似ツイート2位：類似度 0.64　…………\n",
      "\n",
      "「クルマ社会と電車社会の境目はどこにあるんだろう？」と思い、簡単に可視化してみた。\n",
      "\n",
      "2010年国勢調査のデータより、【15歳以上の男性が通勤で使う交通手段1位】で塗り分け。\n",
      "複数回答なので、例えば「駅まで車・駅から電車」の人は自家用車と電車の両方にカウントされるのでご注意を。 \n",
      "\n",
      "【極性】： positive\n",
      "posi_score： 9.9 ／ nega_score： 3.2 ／followers： 6267\n",
      "\n",
      "\n",
      "…………　類似ツイート3位：類似度 0.61　…………\n",
      "\n",
      "昔の話なんやけど、私の同僚は毎日電車で化粧する人やってん。\n",
      "同じ電車に乗る私も他の同僚もみっともないからやめるように何回も注意したんやけど、案の定聞き入れてもらえへんかった。\n",
      "ある日また同じ様に化粧してた彼女がとある男性の服を汚してしまった。\n",
      "相手は一張羅を汚されて激怒したけど、\n",
      "\n",
      "【極性】： negative\n",
      "posi_score： 5.8 ／ nega_score： 9.4 ／followers： 4169\n",
      "\n",
      "\n",
      "…………　類似ツイート4位：類似度 0.6　…………\n",
      "\n",
      "ご飯が出てくるのをいい子にして待ってますみたいな顔してるけど、そもそもそこはあなたの席ではありません https://t.co/o67uS6sBAq\n",
      "\n",
      "【極性】： positive\n",
      "posi_score： 12.6 ／ nega_score： 3.6 ／followers： 759\n",
      "\n",
      "\n",
      "…………　類似ツイート5位：類似度 0.6　…………\n",
      "\n",
      "【うさぎ】こないだ「割り込みは60過ぎた男女にしかされたことない」て呟いたら、「若い人だって多い」という意見をいただいて思い返してみたんだけど、学生時代はこういうしれっと割り込み結構いたわ。 \n",
      "\n",
      "【極性】： negative\n",
      "posi_score： 6.9 ／ nega_score： 7.8 ／followers： 116328\n",
      "\n",
      "\n",
      "…………　類似ツイート6位：類似度 0.59　…………\n",
      "\n",
      "どの指がいいか悩みに悩んでたどり着いた「薬指」\n",
      "#猫#癒し#おしゃぶり#可愛い#ねこのきもち#しじみちゃん \n",
      "\n",
      "【極性】： positive\n",
      "posi_score： 11.0 ／ nega_score： 4.2 ／followers： 4638\n",
      "\n",
      "\n",
      "…………　類似ツイート7位：類似度 0.55　…………\n",
      "\n",
      "猛毒を欲しておいて、自分に降りかかった時、ツイートを消してブロックされる意味がわからない。願いが叶ったんだからすごく喜んで欲しい。 \n",
      "\n",
      "【極性】： positive\n",
      "posi_score： 7.1 ／ nega_score： 6.4 ／followers： 306267\n",
      "\n",
      "\n",
      "…………　類似ツイート8位：類似度 0.55　…………\n",
      "\n",
      "古今東西、男は唐田えりかみたいな女を清純だと信じて疑わないし、女は東出昌大みたいな男を真面目で誠実だと思っている。人間なんて男女共に基本的に見る目ない \n",
      "\n",
      "【極性】： positive\n",
      "posi_score： 49.7 ／ nega_score： 45.3 ／followers： 20\n",
      "\n",
      "\n"
     ]
    }
   ],
   "source": [
    "import predict\n",
    "\n",
    "#推定\n",
    "if __name__ == '__main__':\n",
    "    predict.main(m, trainings, similar, df_tweet)"
   ]
  },
  {
   "cell_type": "code",
   "execution_count": null,
   "metadata": {
    "collapsed": true
   },
   "outputs": [],
   "source": []
  },
  {
   "cell_type": "code",
   "execution_count": null,
   "metadata": {},
   "outputs": [],
   "source": [
    "#.pyファイル作成用コマンド\n",
    "import subprocess\n",
    "subprocess.run(['jupyter', 'nbconvert', '--to', 'python', 'predict.ipynb'])"
   ]
  },
  {
   "cell_type": "code",
   "execution_count": null,
   "metadata": {
    "collapsed": true
   },
   "outputs": [],
   "source": []
  }
 ],
 "metadata": {
  "kernelspec": {
   "display_name": "Python 3",
   "language": "python",
   "name": "python3"
  },
  "language_info": {
   "codemirror_mode": {
    "name": "ipython",
    "version": 3
   },
   "file_extension": ".py",
   "mimetype": "text/x-python",
   "name": "python",
   "nbconvert_exporter": "python",
   "pygments_lexer": "ipython3",
   "version": "3.6.3"
  }
 },
 "nbformat": 4,
 "nbformat_minor": 2
}
