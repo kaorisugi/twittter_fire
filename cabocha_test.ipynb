{
 "cells": [
  {
   "cell_type": "code",
   "execution_count": 3,
   "metadata": {
    "collapsed": true
   },
   "outputs": [],
   "source": [
    "import CaboCha\n",
    "import numpy"
   ]
  },
  {
   "cell_type": "code",
   "execution_count": 2,
   "metadata": {},
   "outputs": [
    {
     "name": "stdout",
     "output_type": "stream",
     "text": [
      "  太郎は-----------D\n",
      "      この-D       |\n",
      "        本を---D   |\n",
      "        二郎を-D   |\n",
      "            見た-D |\n",
      "            女性に-D\n",
      "            渡した。\n",
      "EOS\n",
      "\n",
      "  太郎は-----------D\n",
      "      この-D       |\n",
      "        本を---D   |\n",
      "        二郎を-D   |\n",
      "            見た-D |\n",
      "            女性に-D\n",
      "            渡した。\n",
      "EOS\n",
      "\n",
      "* 0 6D 0/1 -2.457381\n",
      "太郎\t名詞,固有名詞,人名,名,*,*,太郎,タロウ,タロー\n",
      "は\t助詞,係助詞,*,*,*,*,は,ハ,ワ\n",
      "* 1 2D 0/0 1.509507\n",
      "この\t連体詞,*,*,*,*,*,この,コノ,コノ\n",
      "* 2 4D 0/1 0.091699\n",
      "本\t名詞,一般,*,*,*,*,本,ホン,ホン\n",
      "を\t助詞,格助詞,一般,*,*,*,を,ヲ,ヲ\n",
      "* 3 4D 1/2 2.359707\n",
      "二\t名詞,数,*,*,*,*,二,ニ,ニ\n",
      "郎\t名詞,一般,*,*,*,*,郎,ロウ,ロー\n",
      "を\t助詞,格助詞,一般,*,*,*,を,ヲ,ヲ\n",
      "* 4 5D 0/1 1.416783\n",
      "見\t動詞,自立,*,*,一段,連用形,見る,ミ,ミ\n",
      "た\t助動詞,*,*,*,特殊・タ,基本形,た,タ,タ\n",
      "* 5 6D 0/1 -2.457381\n",
      "女性\t名詞,一般,*,*,*,*,女性,ジョセイ,ジョセイ\n",
      "に\t助詞,格助詞,一般,*,*,*,に,ニ,ニ\n",
      "* 6 -1D 0/1 0.000000\n",
      "渡し\t動詞,自立,*,*,五段・サ行,連用形,渡す,ワタシ,ワタシ\n",
      "た\t助動詞,*,*,*,特殊・タ,基本形,た,タ,タ\n",
      "。\t記号,句点,*,*,*,*,。,。,。\n",
      "EOS\n",
      "\n"
     ]
    }
   ],
   "source": [
    "#!/usr/bin/python\n",
    "# -*- coding: utf-8 -*-\n",
    "\n",
    "import CaboCha\n",
    "\n",
    "# c = CaboCha.Parser(\"\");\n",
    "c = CaboCha.Parser()\n",
    "\n",
    "sentence = \"太郎はこの本を二郎を見た女性に渡した。\"\n",
    "\n",
    "print(c.parseToString(sentence))\n",
    "\n",
    "tree =  c.parse(sentence)\n",
    "\n",
    "print(tree.toString(CaboCha.FORMAT_TREE))\n",
    "print(tree.toString(CaboCha.FORMAT_LATTICE))"
   ]
  },
  {
   "cell_type": "code",
   "execution_count": null,
   "metadata": {
    "collapsed": true
   },
   "outputs": [],
   "source": []
  }
 ],
 "metadata": {
  "kernelspec": {
   "display_name": "Python 3",
   "language": "python",
   "name": "python3"
  },
  "language_info": {
   "codemirror_mode": {
    "name": "ipython",
    "version": 3
   },
   "file_extension": ".py",
   "mimetype": "text/x-python",
   "name": "python",
   "nbconvert_exporter": "python",
   "pygments_lexer": "ipython3",
   "version": "3.6.3"
  }
 },
 "nbformat": 4,
 "nbformat_minor": 2
}
